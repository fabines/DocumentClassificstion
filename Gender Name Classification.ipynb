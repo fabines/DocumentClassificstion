{
 "cells": [
  {
   "cell_type": "markdown",
   "metadata": {},
   "source": [
    "<h1> Gender Name Classification </h1>\n",
    "\n",
    "Male and female names have some distinctive characteristics. Names ending in a, e and i are likely to be female, while names ending in k, o, r, s and t are likely to be male. Let's build a classifier to model these differences more precisely.\n",
    "\n",
    "The task consists of predicting whether a name is a male or a female.\n",
    "The classification method consists of taking as input an observation, turning this observation into a feature vector, then predicting the label of this feature vector by applying a trained classifier model.\n",
    "To prepare for this procedure, we must train a classifier. In supervised learning, a classifier is learned by generalizing a set of observed pairs (observationi, labeli) where [i = 1..N]."
   ]
  },
  {
   "cell_type": "code",
   "execution_count": 1,
   "metadata": {},
   "outputs": [
    {
     "data": {
      "text/plain": [
       "{'last_letter': 'k'}"
      ]
     },
     "execution_count": 1,
     "metadata": {},
     "output_type": "execute_result"
    }
   ],
   "source": [
    "%matplotlib inline\n",
    "\n",
    "def gender_features(word):\n",
    "    return {'last_letter': word[-1]}\n",
    "gender_features('Shrek')"
   ]
  },
  {
   "cell_type": "code",
   "execution_count": 2,
   "metadata": {
    "collapsed": true
   },
   "outputs": [],
   "source": [
    "from nltk.corpus import names\n",
    "labeled_names = ([(name, 'male') for name in names.words('male.txt')] + [(name, 'female') for name in names.words('female.txt')])\n",
    "import random\n",
    "random.shuffle(labeled_names)"
   ]
  },
  {
   "cell_type": "code",
   "execution_count": 3,
   "metadata": {},
   "outputs": [
    {
     "name": "stdout",
     "output_type": "stream",
     "text": [
      "There are 7944 samples in the dataset.\n"
     ]
    }
   ],
   "source": [
    "print(\"There are %s samples in the dataset.\" % (len(labeled_names)))"
   ]
  },
  {
   "cell_type": "code",
   "execution_count": 4,
   "metadata": {
    "collapsed": true
   },
   "outputs": [],
   "source": [
    "import nltk\n",
    "\n",
    "featuresets = [(gender_features(n), gender) for (n, gender) in labeled_names]\n",
    "train_set, test_set = featuresets[500:], featuresets[:500]\n",
    "classifier = nltk.NaiveBayesClassifier.train(train_set)"
   ]
  },
  {
   "cell_type": "code",
   "execution_count": 6,
   "metadata": {},
   "outputs": [
    {
     "name": "stdout",
     "output_type": "stream",
     "text": [
      "John is classified as male\n",
      "Judith is classified as female\n"
     ]
    }
   ],
   "source": [
    "print(\"John is classified as %s\" % (classifier.classify(gender_features('Neo'))))\n",
    "\n",
    "print(\"Judith is classified as %s\" % (classifier.classify(gender_features('Trinity'))))"
   ]
  },
  {
   "cell_type": "code",
   "execution_count": 7,
   "metadata": {},
   "outputs": [
    {
     "name": "stdout",
     "output_type": "stream",
     "text": [
      "0.772\n"
     ]
    }
   ],
   "source": [
    "print(nltk.classify.accuracy(classifier, test_set))"
   ]
  },
  {
   "cell_type": "code",
   "execution_count": 8,
   "metadata": {},
   "outputs": [
    {
     "name": "stdout",
     "output_type": "stream",
     "text": [
      "Most Informative Features\n",
      "             last_letter = u'a'           female : male   =     36.7 : 1.0\n",
      "             last_letter = u'k'             male : female =     32.9 : 1.0\n",
      "             last_letter = u'p'             male : female =     19.9 : 1.0\n",
      "             last_letter = u'f'             male : female =     16.7 : 1.0\n",
      "             last_letter = u'v'             male : female =      9.9 : 1.0\n"
     ]
    }
   ],
   "source": [
    "classifier.show_most_informative_features(5)"
   ]
  },
  {
   "cell_type": "code",
   "execution_count": 9,
   "metadata": {
    "collapsed": true
   },
   "outputs": [],
   "source": [
    "def gender_features2(name):\n",
    "    features = {}\n",
    "    features[\"first_letter\"] = name[0].lower()\n",
    "    features[\"last_letter\"] = name[-1].lower()\n",
    "    for letter in 'abcdefghijklmnopqrstuvwxyz':\n",
    "        features[\"count(%s)\" % letter] = name.lower().count(letter)\n",
    "        features[\"has(%s)\" % letter] = (letter in name.lower())\n",
    "    return features"
   ]
  },
  {
   "cell_type": "code",
   "execution_count": 10,
   "metadata": {},
   "outputs": [
    {
     "data": {
      "text/plain": [
       "{'count(a)': 0,\n",
       " 'count(b)': 0,\n",
       " 'count(c)': 0,\n",
       " 'count(d)': 0,\n",
       " 'count(e)': 0,\n",
       " 'count(f)': 0,\n",
       " 'count(g)': 0,\n",
       " 'count(h)': 1,\n",
       " 'count(i)': 0,\n",
       " 'count(j)': 1,\n",
       " 'count(k)': 0,\n",
       " 'count(l)': 0,\n",
       " 'count(m)': 0,\n",
       " 'count(n)': 1,\n",
       " 'count(o)': 1,\n",
       " 'count(p)': 0,\n",
       " 'count(q)': 0,\n",
       " 'count(r)': 0,\n",
       " 'count(s)': 0,\n",
       " 'count(t)': 0,\n",
       " 'count(u)': 0,\n",
       " 'count(v)': 0,\n",
       " 'count(w)': 0,\n",
       " 'count(x)': 0,\n",
       " 'count(y)': 0,\n",
       " 'count(z)': 0,\n",
       " 'first_letter': 'j',\n",
       " 'has(a)': False,\n",
       " 'has(b)': False,\n",
       " 'has(c)': False,\n",
       " 'has(d)': False,\n",
       " 'has(e)': False,\n",
       " 'has(f)': False,\n",
       " 'has(g)': False,\n",
       " 'has(h)': True,\n",
       " 'has(i)': False,\n",
       " 'has(j)': True,\n",
       " 'has(k)': False,\n",
       " 'has(l)': False,\n",
       " 'has(m)': False,\n",
       " 'has(n)': True,\n",
       " 'has(o)': True,\n",
       " 'has(p)': False,\n",
       " 'has(q)': False,\n",
       " 'has(r)': False,\n",
       " 'has(s)': False,\n",
       " 'has(t)': False,\n",
       " 'has(u)': False,\n",
       " 'has(v)': False,\n",
       " 'has(w)': False,\n",
       " 'has(x)': False,\n",
       " 'has(y)': False,\n",
       " 'has(z)': False,\n",
       " 'last_letter': 'n'}"
      ]
     },
     "execution_count": 10,
     "metadata": {},
     "output_type": "execute_result"
    }
   ],
   "source": [
    "gender_features2('John') "
   ]
  },
  {
   "cell_type": "code",
   "execution_count": 11,
   "metadata": {},
   "outputs": [
    {
     "name": "stdout",
     "output_type": "stream",
     "text": [
      "0.762\n"
     ]
    }
   ],
   "source": [
    "featuresets = [(gender_features2(n), gender) for (n, gender) in labeled_names]\n",
    "train_set, test_set = featuresets[500:], featuresets[:500]\n",
    "classifier = nltk.NaiveBayesClassifier.train(train_set)\n",
    "print(nltk.classify.accuracy(classifier, test_set))"
   ]
  },
  {
   "cell_type": "code",
   "execution_count": 13,
   "metadata": {
    "collapsed": true
   },
   "outputs": [],
   "source": [
    "train_names = labeled_names[1500:]\n",
    "devtest_names = labeled_names[500:1500]\n",
    "test_names = labeled_names[:500]"
   ]
  },
  {
   "cell_type": "code",
   "execution_count": 15,
   "metadata": {},
   "outputs": [
    {
     "name": "stdout",
     "output_type": "stream",
     "text": [
      "0.767\n"
     ]
    }
   ],
   "source": [
    "train_set = [(gender_features(n), gender) for (n, gender) in train_names]\n",
    "devtest_set = [(gender_features(n), gender) for (n, gender) in devtest_names]\n",
    "test_set = [(gender_features(n), gender) for (n, gender) in test_names]\n",
    "classifier = nltk.NaiveBayesClassifier.train(train_set)\n",
    "print(nltk.classify.accuracy(classifier, devtest_set))"
   ]
  },
  {
   "cell_type": "code",
   "execution_count": 16,
   "metadata": {},
   "outputs": [],
   "source": [
    "errors = []\n",
    "for (name, tag) in devtest_names:\n",
    "    guess = classifier.classify(gender_features(name))\n",
    "    if guess != tag:\n",
    "        errors.append( (tag, guess, name) )"
   ]
  },
  {
   "cell_type": "code",
   "execution_count": 17,
   "metadata": {},
   "outputs": [
    {
     "name": "stdout",
     "output_type": "stream",
     "text": [
      "correct=female   guess=male     name=Adel                          \n",
      "correct=female   guess=male     name=Adrian                        \n",
      "correct=female   guess=male     name=Aileen                        \n",
      "correct=female   guess=male     name=Allis                         \n",
      "correct=female   guess=male     name=Allyn                         \n",
      "correct=female   guess=male     name=Ashlen                        \n",
      "correct=female   guess=male     name=Aurel                         \n",
      "correct=female   guess=male     name=Averyl                        \n",
      "correct=female   guess=male     name=Avril                         \n",
      "correct=female   guess=male     name=Beatriz                       \n",
      "correct=female   guess=male     name=Bert                          \n",
      "correct=female   guess=male     name=Brandais                      \n",
      "correct=female   guess=male     name=Bridgett                      \n",
      "correct=female   guess=male     name=Brigid                        \n",
      "correct=female   guess=male     name=Brigit                        \n",
      "correct=female   guess=male     name=Bryn                          \n",
      "correct=female   guess=male     name=Carmel                        \n",
      "correct=female   guess=male     name=Catherin                      \n",
      "correct=female   guess=male     name=Cathleen                      \n",
      "correct=female   guess=male     name=Catlin                        \n",
      "correct=female   guess=male     name=Chandal                       \n",
      "correct=female   guess=male     name=Chantal                       \n",
      "correct=female   guess=male     name=Charlot                       \n",
      "correct=female   guess=male     name=Clem                          \n",
      "correct=female   guess=male     name=Cleo                          \n",
      "correct=female   guess=male     name=Corabel                       \n",
      "correct=female   guess=male     name=Coral                         \n",
      "correct=female   guess=male     name=Darleen                       \n",
      "correct=female   guess=male     name=Del                           \n",
      "correct=female   guess=male     name=Devin                         \n",
      "correct=female   guess=male     name=Diahann                       \n",
      "correct=female   guess=male     name=Doreen                        \n",
      "correct=female   guess=male     name=Doro                          \n",
      "correct=female   guess=male     name=Eden                          \n",
      "correct=female   guess=male     name=Eleanor                       \n",
      "correct=female   guess=male     name=Elinor                        \n",
      "correct=female   guess=male     name=Em                            \n",
      "correct=female   guess=male     name=Eran                          \n",
      "correct=female   guess=male     name=Erinn                         \n",
      "correct=female   guess=male     name=Eryn                          \n",
      "correct=female   guess=male     name=Estell                        \n",
      "correct=female   guess=male     name=Fan                           \n",
      "correct=female   guess=male     name=Flower                        \n",
      "correct=female   guess=male     name=Gael                          \n",
      "correct=female   guess=male     name=Gayleen                       \n",
      "correct=female   guess=male     name=Gillan                        \n",
      "correct=female   guess=male     name=Ginnifer                      \n",
      "correct=female   guess=male     name=Grethel                       \n",
      "correct=female   guess=male     name=Gus                           \n",
      "correct=female   guess=male     name=Hazel                         \n",
      "correct=female   guess=male     name=Idell                         \n",
      "correct=female   guess=male     name=Jackelyn                      \n",
      "correct=female   guess=male     name=Jasmin                        \n",
      "correct=female   guess=male     name=Jenifer                       \n",
      "correct=female   guess=male     name=Jessalyn                      \n",
      "correct=female   guess=male     name=Jessamyn                      \n",
      "correct=female   guess=male     name=Jewell                        \n",
      "correct=female   guess=male     name=Jo Ann                        \n",
      "correct=female   guess=male     name=Joyann                        \n",
      "correct=female   guess=male     name=Joycelin                      \n",
      "correct=female   guess=male     name=Joyous                        \n",
      "correct=female   guess=male     name=Karyl                         \n",
      "correct=female   guess=male     name=Kaster                        \n",
      "correct=female   guess=male     name=Katheryn                      \n",
      "correct=female   guess=male     name=Kerrill                       \n",
      "correct=female   guess=male     name=Kevyn                         \n",
      "correct=female   guess=male     name=Kristyn                       \n",
      "correct=female   guess=male     name=Kylynn                        \n",
      "correct=female   guess=male     name=Lauryn                        \n",
      "correct=female   guess=male     name=Lib                           \n",
      "correct=female   guess=male     name=Lillian                       \n",
      "correct=female   guess=male     name=Lillis                        \n",
      "correct=female   guess=male     name=Loralyn                       \n",
      "correct=female   guess=male     name=Lust                          \n",
      "correct=female   guess=male     name=Mab                           \n",
      "correct=female   guess=male     name=Manon                         \n",
      "correct=female   guess=male     name=Margalit                      \n",
      "correct=female   guess=male     name=Margaux                       \n",
      "correct=female   guess=male     name=Margeaux                      \n",
      "correct=female   guess=male     name=Marget                        \n",
      "correct=female   guess=male     name=Marieann                      \n",
      "correct=female   guess=male     name=Mariel                        \n",
      "correct=female   guess=male     name=Marillin                      \n",
      "correct=female   guess=male     name=Marin                         \n",
      "correct=female   guess=male     name=Marion                        \n",
      "correct=female   guess=male     name=Maris                         \n",
      "correct=female   guess=male     name=Marit                         \n",
      "correct=female   guess=male     name=Marlo                         \n",
      "correct=female   guess=male     name=Maryjo                        \n",
      "correct=female   guess=male     name=Max                           \n",
      "correct=female   guess=male     name=Megen                         \n",
      "correct=female   guess=male     name=Mellicent                     \n",
      "correct=female   guess=male     name=Mercedes                      \n",
      "correct=female   guess=male     name=Meridel                       \n",
      "correct=female   guess=male     name=Michal                        \n",
      "correct=female   guess=male     name=Mikako                        \n",
      "correct=female   guess=male     name=Morgen                        \n",
      "correct=female   guess=male     name=Orel                          \n",
      "correct=female   guess=male     name=Pen                           \n",
      "correct=female   guess=male     name=Rachael                       \n",
      "correct=female   guess=male     name=Rianon                        \n",
      "correct=female   guess=male     name=Robin                         \n",
      "correct=female   guess=male     name=Rosaleen                      \n",
      "correct=female   guess=male     name=Rosalyn                       \n",
      "correct=female   guess=male     name=Rosamund                      \n",
      "correct=female   guess=male     name=Roseann                       \n",
      "correct=female   guess=male     name=Roselyn                       \n",
      "correct=female   guess=male     name=Roslyn                        \n",
      "correct=female   guess=male     name=Scarlett                      \n",
      "correct=female   guess=male     name=Shamit                        \n",
      "correct=female   guess=male     name=Shaylyn                       \n",
      "correct=female   guess=male     name=Shel                          \n",
      "correct=female   guess=male     name=Sher                          \n",
      "correct=female   guess=male     name=Siobhan                       \n",
      "correct=female   guess=male     name=Van                           \n",
      "correct=female   guess=male     name=Wallis                        \n",
      "correct=female   guess=male     name=Wynn                          \n",
      "correct=female   guess=male     name=Yoko                          \n",
      "correct=female   guess=male     name=Yoshiko                       \n",
      "correct=male     guess=female   name=Ajai                          \n",
      "correct=male     guess=female   name=Aldrich                       \n",
      "correct=male     guess=female   name=Ambrosi                       \n",
      "correct=male     guess=female   name=Amory                         \n",
      "correct=male     guess=female   name=Andrej                        \n",
      "correct=male     guess=female   name=Andrey                        \n",
      "correct=male     guess=female   name=Andri                         \n",
      "correct=male     guess=female   name=Andy                          \n",
      "correct=male     guess=female   name=Archy                         \n",
      "correct=male     guess=female   name=Ari                           \n",
      "correct=male     guess=female   name=Ash                           \n",
      "correct=male     guess=female   name=Ashish                        \n",
      "correct=male     guess=female   name=Augustine                     \n",
      "correct=male     guess=female   name=Baillie                       \n",
      "correct=male     guess=female   name=Barclay                       \n",
      "correct=male     guess=female   name=Bealle                        \n",
      "correct=male     guess=female   name=Bernie                        \n",
      "correct=male     guess=female   name=Billy                         \n",
      "correct=male     guess=female   name=Blake                         \n",
      "correct=male     guess=female   name=Bobby                         \n",
      "correct=male     guess=female   name=Brooke                        \n",
      "correct=male     guess=female   name=Bucky                         \n",
      "correct=male     guess=female   name=Carleigh                      \n",
      "correct=male     guess=female   name=Charlie                       \n",
      "correct=male     guess=female   name=Chauncey                      \n",
      "correct=male     guess=female   name=Claude                        \n",
      "correct=male     guess=female   name=Clyde                         \n",
      "correct=male     guess=female   name=Corey                         \n",
      "correct=male     guess=female   name=Dale                          \n",
      "correct=male     guess=female   name=Dennie                        \n",
      "correct=male     guess=female   name=Dickey                        \n",
      "correct=male     guess=female   name=Dickie                        \n",
      "correct=male     guess=female   name=Donnie                        \n",
      "correct=male     guess=female   name=Donny                         \n",
      "correct=male     guess=female   name=Elmore                        \n",
      "correct=male     guess=female   name=Enoch                         \n",
      "correct=male     guess=female   name=Enrique                       \n",
      "correct=male     guess=female   name=Freddie                       \n",
      "correct=male     guess=female   name=French                        \n",
      "correct=male     guess=female   name=Gary                          \n",
      "correct=male     guess=female   name=George                        \n",
      "correct=male     guess=female   name=Geri                          \n",
      "correct=male     guess=female   name=Giffie                        \n",
      "correct=male     guess=female   name=Giovanni                      \n",
      "correct=male     guess=female   name=Godfrey                       \n",
      "correct=male     guess=female   name=Graehme                       \n",
      "correct=male     guess=female   name=Guthrie                       \n",
      "correct=male     guess=female   name=Hadley                        \n",
      "correct=male     guess=female   name=Hasty                         \n",
      "correct=male     guess=female   name=Heath                         \n",
      "correct=male     guess=female   name=Henri                         \n",
      "correct=male     guess=female   name=Huey                          \n",
      "correct=male     guess=female   name=Huntley                       \n",
      "correct=male     guess=female   name=Iggie                         \n",
      "correct=male     guess=female   name=Jeffery                       \n",
      "correct=male     guess=female   name=Jerri                         \n",
      "correct=male     guess=female   name=Jessie                        \n",
      "correct=male     guess=female   name=Jodi                          \n",
      "correct=male     guess=female   name=Johnnie                       \n",
      "correct=male     guess=female   name=Jorge                         \n",
      "correct=male     guess=female   name=Joshuah                       \n",
      "correct=male     guess=female   name=Kalle                         \n",
      "correct=male     guess=female   name=Kyle                          \n",
      "correct=male     guess=female   name=Lay                           \n",
      "correct=male     guess=female   name=Lemmy                         \n",
      "correct=male     guess=female   name=Lindsay                       \n",
      "correct=male     guess=female   name=Lonny                         \n",
      "correct=male     guess=female   name=Luke                          \n",
      "correct=male     guess=female   name=Maurise                       \n",
      "correct=male     guess=female   name=Mickey                        \n",
      "correct=male     guess=female   name=Moe                           \n",
      "correct=male     guess=female   name=Montgomery                    \n",
      "correct=male     guess=female   name=Morly                         \n",
      "correct=male     guess=female   name=Mugsy                         \n",
      "correct=male     guess=female   name=Murphy                        \n",
      "correct=male     guess=female   name=Murray                        \n",
      "correct=male     guess=female   name=Nealy                         \n",
      "correct=male     guess=female   name=Neville                       \n",
      "correct=male     guess=female   name=Normie                        \n",
      "correct=male     guess=female   name=Olle                          \n",
      "correct=male     guess=female   name=Pate                          \n",
      "correct=male     guess=female   name=Pearce                        \n",
      "correct=male     guess=female   name=Pembroke                      \n",
      "correct=male     guess=female   name=Radcliffe                     \n",
      "correct=male     guess=female   name=Ramsay                        \n",
      "correct=male     guess=female   name=Reece                         \n",
      "correct=male     guess=female   name=Reese                         \n",
      "correct=male     guess=female   name=Richy                         \n",
      "correct=male     guess=female   name=Rickie                        \n",
      "correct=male     guess=female   name=Robbie                        \n",
      "correct=male     guess=female   name=Sayre                         \n",
      "correct=male     guess=female   name=Scotti                        \n",
      "correct=male     guess=female   name=Sheffie                       \n",
      "correct=male     guess=female   name=Shelby                        \n",
      "correct=male     guess=female   name=Sherlocke                     \n",
      "correct=male     guess=female   name=Si                            \n",
      "correct=male     guess=female   name=Sparky                        \n",
      "correct=male     guess=female   name=Steve                         \n",
      "correct=male     guess=female   name=Stevie                        \n",
      "correct=male     guess=female   name=Tallie                        \n",
      "correct=male     guess=female   name=Temple                        \n",
      "correct=male     guess=female   name=Timmy                         \n",
      "correct=male     guess=female   name=Tobiah                        \n",
      "correct=male     guess=female   name=Trey                          \n",
      "correct=male     guess=female   name=Valentine                     \n",
      "correct=male     guess=female   name=Vince                         \n",
      "correct=male     guess=female   name=Wadsworth                     \n",
      "correct=male     guess=female   name=Ware                          \n",
      "correct=male     guess=female   name=Welsh                         \n",
      "correct=male     guess=female   name=Westley                       \n",
      "correct=male     guess=female   name=Wittie                        \n",
      "correct=male     guess=female   name=Yale                          \n",
      "correct=male     guess=female   name=Yule                          \n",
      "correct=male     guess=female   name=Zachary                       \n"
     ]
    }
   ],
   "source": [
    "for (tag, guess, name) in sorted(errors):\n",
    "    print('correct=%-8s guess=%-8s name=%-30s' % (tag, guess, name))"
   ]
  },
  {
   "cell_type": "code",
   "execution_count": 18,
   "metadata": {
    "collapsed": true
   },
   "outputs": [],
   "source": [
    "def gender_features(word):\n",
    "    return {'suffix1': word[-1:],\n",
    "            'suffix2': word[-2:]}"
   ]
  },
  {
   "cell_type": "code",
   "execution_count": 19,
   "metadata": {},
   "outputs": [
    {
     "name": "stdout",
     "output_type": "stream",
     "text": [
      "0.81\n"
     ]
    }
   ],
   "source": [
    "train_set = [(gender_features(n), gender) for (n, gender) in train_names]\n",
    "devtest_set = [(gender_features(n), gender) for (n, gender) in devtest_names]\n",
    "classifier = nltk.NaiveBayesClassifier.train(train_set)\n",
    "print(nltk.classify.accuracy(classifier, devtest_set))"
   ]
  },
  {
   "cell_type": "code",
   "execution_count": null,
   "metadata": {
    "collapsed": true
   },
   "outputs": [],
   "source": []
  }
 ],
 "metadata": {
  "kernelspec": {
   "display_name": "Python 2",
   "language": "python",
   "name": "python2"
  },
  "language_info": {
   "codemirror_mode": {
    "name": "ipython",
    "version": 2
   },
   "file_extension": ".py",
   "mimetype": "text/x-python",
   "name": "python",
   "nbconvert_exporter": "python",
   "pygments_lexer": "ipython2",
   "version": "2.7.13"
  }
 },
 "nbformat": 4,
 "nbformat_minor": 2
}
